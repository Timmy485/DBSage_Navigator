{
 "cells": [
  {
   "cell_type": "code",
   "execution_count": 3,
   "metadata": {},
   "outputs": [
    {
     "name": "stderr",
     "output_type": "stream",
     "text": [
      "\n",
      "[notice] A new release of pip available: 22.3.1 -> 23.3.1\n",
      "[notice] To update, run: python.exe -m pip install --upgrade pip\n"
     ]
    }
   ],
   "source": [
    "# !pip install -U -q \"langchain\" \"transformers==4.31.0\" \"datasets==2.13.0\" \"peft==0.4.0\" \"accelerate==0.21.0\" \"bitsandbytes==0.40.2\" \"trl==0.4.7\" \"safetensors>=0.3.1\""
   ]
  },
  {
   "cell_type": "markdown",
   "metadata": {},
   "source": [
    "## Data Prep"
   ]
  },
  {
   "cell_type": "code",
   "execution_count": 8,
   "metadata": {},
   "outputs": [
    {
     "name": "stderr",
     "output_type": "stream",
     "text": [
      "--2023-12-12 10:40:32--  https://raw.githubusercontent.com/AI-Maker-Space/DataRepository/main/oppenheimer.csv\n",
      "Resolving raw.githubusercontent.com (raw.githubusercontent.com)... 185.199.108.133, 185.199.109.133, 185.199.110.133, ...\n",
      "Connecting to raw.githubusercontent.com (raw.githubusercontent.com)|185.199.108.133|:443... connected.\n",
      "HTTP request sent, awaiting response... 200 OK\n",
      "Length: 80957 (79K) [text/plain]\n",
      "Saving to: 'oppenheimer.csv.2'\n",
      "\n",
      "     0K .......... .......... .......... .......... .......... 63%  256K 0s\n",
      "    50K .......... .......... .........                       100% 99.6M=0.2s\n",
      "\n",
      "2023-12-12 10:40:33 (405 KB/s) - 'oppenheimer.csv.2' saved [80957/80957]\n",
      "\n"
     ]
    }
   ],
   "source": [
    "!wget https://raw.githubusercontent.com/AI-Maker-Space/DataRepository/main/oppenheimer.csv"
   ]
  },
  {
   "cell_type": "code",
   "execution_count": 5,
   "metadata": {},
   "outputs": [
    {
     "name": "stderr",
     "output_type": "stream",
     "text": [
      "--2023-12-12 10:39:43--  https://raw.githubusercontent.com/AI-Maker-Space/DataRepository/main/barbie.csv\n",
      "Resolving raw.githubusercontent.com (raw.githubusercontent.com)... 185.199.108.133, 185.199.109.133, 185.199.110.133, ...\n",
      "Connecting to raw.githubusercontent.com (raw.githubusercontent.com)|185.199.108.133|:443... connected.\n",
      "HTTP request sent, awaiting response... 200 OK\n",
      "Length: 72289 (71K) [text/plain]\n",
      "Saving to: 'barbie.csv.1'\n",
      "\n",
      "     0K .......... .......... .......... .......... .......... 70%  311K 0s\n",
      "    50K .......... ..........                                 100%  108M=0.2s\n",
      "\n",
      "2023-12-12 10:39:44 (438 KB/s) - 'barbie.csv.1' saved [72289/72289]\n",
      "\n"
     ]
    }
   ],
   "source": [
    "!wget https://raw.githubusercontent.com/AI-Maker-Space/DataRepository/main/barbie.csv"
   ]
  },
  {
   "cell_type": "markdown",
   "metadata": {},
   "source": [
    "## Parse Data"
   ]
  },
  {
   "cell_type": "code",
   "execution_count": 9,
   "metadata": {},
   "outputs": [
    {
     "ename": "ImportError",
     "evalue": "cannot import name 'stringify_dict' from 'langchain_core.utils' (c:\\Users\\TurnerZ\\Documents\\GitHub\\DBSage_Navigator\\.venv\\Lib\\site-packages\\langchain_core\\utils\\__init__.py)",
     "output_type": "error",
     "traceback": [
      "\u001b[1;31m---------------------------------------------------------------------------\u001b[0m",
      "\u001b[1;31mImportError\u001b[0m                               Traceback (most recent call last)",
      "\u001b[1;32mc:\\Users\\TurnerZ\\Documents\\GitHub\\DBSage_Navigator\\rag_notebooks\\barbenheimer.ipynb Cell 6\u001b[0m line \u001b[0;36m1\n\u001b[1;32m----> <a href='vscode-notebook-cell:/c%3A/Users/TurnerZ/Documents/GitHub/DBSage_Navigator/rag_notebooks/barbenheimer.ipynb#W5sZmlsZQ%3D%3D?line=0'>1</a>\u001b[0m \u001b[39mfrom\u001b[39;00m \u001b[39mlangchain\u001b[39;00m\u001b[39m.\u001b[39;00m\u001b[39mdocument_loaders\u001b[39;00m\u001b[39m.\u001b[39;00m\u001b[39mcsv_loader\u001b[39;00m \u001b[39mimport\u001b[39;00m CSVLoader\n",
      "File \u001b[1;32mc:\\Users\\TurnerZ\\Documents\\GitHub\\DBSage_Navigator\\.venv\\Lib\\site-packages\\langchain\\document_loaders\\__init__.py:29\u001b[0m\n\u001b[0;32m     18\u001b[0m \u001b[39mfrom\u001b[39;00m \u001b[39mlangchain\u001b[39;00m\u001b[39m.\u001b[39;00m\u001b[39mdocument_loaders\u001b[39;00m\u001b[39m.\u001b[39;00m\u001b[39macreom\u001b[39;00m \u001b[39mimport\u001b[39;00m AcreomLoader\n\u001b[0;32m     19\u001b[0m \u001b[39mfrom\u001b[39;00m \u001b[39mlangchain\u001b[39;00m\u001b[39m.\u001b[39;00m\u001b[39mdocument_loaders\u001b[39;00m\u001b[39m.\u001b[39;00m\u001b[39mairbyte\u001b[39;00m \u001b[39mimport\u001b[39;00m (\n\u001b[0;32m     20\u001b[0m     AirbyteCDKLoader,\n\u001b[0;32m     21\u001b[0m     AirbyteGongLoader,\n\u001b[1;32m   (...)\u001b[0m\n\u001b[0;32m     27\u001b[0m     AirbyteZendeskSupportLoader,\n\u001b[0;32m     28\u001b[0m )\n\u001b[1;32m---> 29\u001b[0m \u001b[39mfrom\u001b[39;00m \u001b[39mlangchain\u001b[39;00m\u001b[39m.\u001b[39;00m\u001b[39mdocument_loaders\u001b[39;00m\u001b[39m.\u001b[39;00m\u001b[39mairbyte_json\u001b[39;00m \u001b[39mimport\u001b[39;00m AirbyteJSONLoader\n\u001b[0;32m     30\u001b[0m \u001b[39mfrom\u001b[39;00m \u001b[39mlangchain\u001b[39;00m\u001b[39m.\u001b[39;00m\u001b[39mdocument_loaders\u001b[39;00m\u001b[39m.\u001b[39;00m\u001b[39mairtable\u001b[39;00m \u001b[39mimport\u001b[39;00m AirtableLoader\n\u001b[0;32m     31\u001b[0m \u001b[39mfrom\u001b[39;00m \u001b[39mlangchain\u001b[39;00m\u001b[39m.\u001b[39;00m\u001b[39mdocument_loaders\u001b[39;00m\u001b[39m.\u001b[39;00m\u001b[39mapify_dataset\u001b[39;00m \u001b[39mimport\u001b[39;00m ApifyDatasetLoader\n",
      "File \u001b[1;32mc:\\Users\\TurnerZ\\Documents\\GitHub\\DBSage_Navigator\\.venv\\Lib\\site-packages\\langchain\\document_loaders\\airbyte_json.py:1\u001b[0m\n\u001b[1;32m----> 1\u001b[0m \u001b[39mfrom\u001b[39;00m \u001b[39mlangchain_community\u001b[39;00m\u001b[39m.\u001b[39;00m\u001b[39mdocument_loaders\u001b[39;00m\u001b[39m.\u001b[39;00m\u001b[39mairbyte_json\u001b[39;00m \u001b[39mimport\u001b[39;00m AirbyteJSONLoader\n\u001b[0;32m      3\u001b[0m __all__ \u001b[39m=\u001b[39m [\u001b[39m\"\u001b[39m\u001b[39mAirbyteJSONLoader\u001b[39m\u001b[39m\"\u001b[39m]\n",
      "File \u001b[1;32mc:\\Users\\TurnerZ\\Documents\\GitHub\\DBSage_Navigator\\.venv\\Lib\\site-packages\\langchain_community\\document_loaders\\__init__.py:29\u001b[0m\n\u001b[0;32m     18\u001b[0m \u001b[39mfrom\u001b[39;00m \u001b[39mlangchain_community\u001b[39;00m\u001b[39m.\u001b[39;00m\u001b[39mdocument_loaders\u001b[39;00m\u001b[39m.\u001b[39;00m\u001b[39macreom\u001b[39;00m \u001b[39mimport\u001b[39;00m AcreomLoader\n\u001b[0;32m     19\u001b[0m \u001b[39mfrom\u001b[39;00m \u001b[39mlangchain_community\u001b[39;00m\u001b[39m.\u001b[39;00m\u001b[39mdocument_loaders\u001b[39;00m\u001b[39m.\u001b[39;00m\u001b[39mairbyte\u001b[39;00m \u001b[39mimport\u001b[39;00m (\n\u001b[0;32m     20\u001b[0m     AirbyteCDKLoader,\n\u001b[0;32m     21\u001b[0m     AirbyteGongLoader,\n\u001b[1;32m   (...)\u001b[0m\n\u001b[0;32m     27\u001b[0m     AirbyteZendeskSupportLoader,\n\u001b[0;32m     28\u001b[0m )\n\u001b[1;32m---> 29\u001b[0m \u001b[39mfrom\u001b[39;00m \u001b[39mlangchain_community\u001b[39;00m\u001b[39m.\u001b[39;00m\u001b[39mdocument_loaders\u001b[39;00m\u001b[39m.\u001b[39;00m\u001b[39mairbyte_json\u001b[39;00m \u001b[39mimport\u001b[39;00m AirbyteJSONLoader\n\u001b[0;32m     30\u001b[0m \u001b[39mfrom\u001b[39;00m \u001b[39mlangchain_community\u001b[39;00m\u001b[39m.\u001b[39;00m\u001b[39mdocument_loaders\u001b[39;00m\u001b[39m.\u001b[39;00m\u001b[39mairtable\u001b[39;00m \u001b[39mimport\u001b[39;00m AirtableLoader\n\u001b[0;32m     31\u001b[0m \u001b[39mfrom\u001b[39;00m \u001b[39mlangchain_community\u001b[39;00m\u001b[39m.\u001b[39;00m\u001b[39mdocument_loaders\u001b[39;00m\u001b[39m.\u001b[39;00m\u001b[39mapify_dataset\u001b[39;00m \u001b[39mimport\u001b[39;00m ApifyDatasetLoader\n",
      "File \u001b[1;32mc:\\Users\\TurnerZ\\Documents\\GitHub\\DBSage_Navigator\\.venv\\Lib\\site-packages\\langchain_community\\document_loaders\\airbyte_json.py:5\u001b[0m\n\u001b[0;32m      2\u001b[0m \u001b[39mfrom\u001b[39;00m \u001b[39mtyping\u001b[39;00m \u001b[39mimport\u001b[39;00m List\n\u001b[0;32m      4\u001b[0m \u001b[39mfrom\u001b[39;00m \u001b[39mlangchain_core\u001b[39;00m\u001b[39m.\u001b[39;00m\u001b[39mdocuments\u001b[39;00m \u001b[39mimport\u001b[39;00m Document\n\u001b[1;32m----> 5\u001b[0m \u001b[39mfrom\u001b[39;00m \u001b[39mlangchain_core\u001b[39;00m\u001b[39m.\u001b[39;00m\u001b[39mutils\u001b[39;00m \u001b[39mimport\u001b[39;00m stringify_dict\n\u001b[0;32m      7\u001b[0m \u001b[39mfrom\u001b[39;00m \u001b[39mlangchain_community\u001b[39;00m\u001b[39m.\u001b[39;00m\u001b[39mdocument_loaders\u001b[39;00m\u001b[39m.\u001b[39;00m\u001b[39mbase\u001b[39;00m \u001b[39mimport\u001b[39;00m BaseLoader\n\u001b[0;32m     10\u001b[0m \u001b[39mclass\u001b[39;00m \u001b[39mAirbyteJSONLoader\u001b[39;00m(BaseLoader):\n",
      "\u001b[1;31mImportError\u001b[0m: cannot import name 'stringify_dict' from 'langchain_core.utils' (c:\\Users\\TurnerZ\\Documents\\GitHub\\DBSage_Navigator\\.venv\\Lib\\site-packages\\langchain_core\\utils\\__init__.py)"
     ]
    }
   ],
   "source": [
    "from langchain.document_loaders.csv_loader import CSVLoader"
   ]
  },
  {
   "cell_type": "code",
   "execution_count": null,
   "metadata": {},
   "outputs": [],
   "source": [
    "barbie_loader = CSVLoader(file_path=\"barbie.csv\", source_column=\"Review_Url\", encoding=\"utf-8\")\n",
    "oppenheimer_loader = CSVLoader(file_path=\"oppenheimer.csv\", source_column=\"Review_Url\", encoding=\"utf-8\")"
   ]
  },
  {
   "cell_type": "code",
   "execution_count": null,
   "metadata": {},
   "outputs": [],
   "source": [
    "barbie_data = barbie_loader.load()\n",
    "oppenheimer_data = oppenheimer_loader.load()"
   ]
  },
  {
   "cell_type": "markdown",
   "metadata": {},
   "source": [
    "## Chunking Data"
   ]
  },
  {
   "cell_type": "code",
   "execution_count": null,
   "metadata": {},
   "outputs": [],
   "source": [
    "from langchain.text_splitter import RecursiveCharacterTextSplitter\n",
    "\n",
    "text_splitter = RecursiveCharacterTextSplitter(\n",
    "    chunk_size = 1000, # the character length of the chunk\n",
    "    chunk_overlap = 100, # the character length of the overlap between chunks\n",
    "    length_function = len, # the length function - in this case, character length (aka the python len() fn.)\n",
    ")"
   ]
  },
  {
   "cell_type": "code",
   "execution_count": null,
   "metadata": {},
   "outputs": [
    {
     "data": {
      "text/plain": [
       "181"
      ]
     },
     "execution_count": 13,
     "metadata": {},
     "output_type": "execute_result"
    }
   ],
   "source": [
    "barbie_documents = text_splitter.transform_documents(barbie_data)\n",
    "len(barbie_documents)"
   ]
  },
  {
   "cell_type": "code",
   "execution_count": null,
   "metadata": {},
   "outputs": [
    {
     "data": {
      "text/plain": [
       "186"
      ]
     },
     "execution_count": 15,
     "metadata": {},
     "output_type": "execute_result"
    }
   ],
   "source": [
    "oppenheimer_documents = text_splitter.transform_documents(oppenheimer_data)\n",
    "len(oppenheimer_documents)"
   ]
  },
  {
   "cell_type": "code",
   "execution_count": null,
   "metadata": {},
   "outputs": [],
   "source": [
    "combined_documents = barbie_documents + oppenheimer_documents"
   ]
  },
  {
   "cell_type": "markdown",
   "metadata": {},
   "source": [
    "## Creating Index"
   ]
  },
  {
   "cell_type": "code",
   "execution_count": 1,
   "metadata": {},
   "outputs": [
    {
     "name": "stderr",
     "output_type": "stream",
     "text": [
      "  DEPRECATION: sentence-transformers is being installed using the legacy 'setup.py install' method, because it does not have a 'pyproject.toml' and the 'wheel' package is not installed. pip 23.1 will enforce this behaviour change. A possible replacement is to enable the '--use-pep517' option. Discussion can be found at https://github.com/pypa/pip/issues/8559\n",
      "\n",
      "[notice] A new release of pip available: 22.3.1 -> 23.3.1\n",
      "[notice] To update, run: python.exe -m pip install --upgrade pip\n"
     ]
    }
   ],
   "source": [
    "!pip install -q -U faiss-cpu tiktoken sentence-transformers"
   ]
  },
  {
   "cell_type": "code",
   "execution_count": 2,
   "metadata": {},
   "outputs": [
    {
     "name": "stderr",
     "output_type": "stream",
     "text": [
      "c:\\Users\\TurnerZ\\Documents\\GitHub\\DBSage_Navigator\\.venv\\Lib\\site-packages\\tqdm\\auto.py:21: TqdmWarning: IProgress not found. Please update jupyter and ipywidgets. See https://ipywidgets.readthedocs.io/en/stable/user_install.html\n",
      "  from .autonotebook import tqdm as notebook_tqdm\n",
      "c:\\Users\\TurnerZ\\Documents\\GitHub\\DBSage_Navigator\\.venv\\Lib\\site-packages\\bitsandbytes\\cextension.py:34: UserWarning: The installed version of bitsandbytes was compiled without GPU support. 8-bit optimizers, 8-bit multiplication, and GPU quantization are unavailable.\n",
      "  warn(\"The installed version of bitsandbytes was compiled without GPU support. \"\n"
     ]
    },
    {
     "name": "stdout",
     "output_type": "stream",
     "text": [
      "'NoneType' object has no attribute 'cadam32bit_grad_fp32'\n"
     ]
    },
    {
     "ename": "NameError",
     "evalue": "name 'combined_documents' is not defined",
     "output_type": "error",
     "traceback": [
      "\u001b[1;31m---------------------------------------------------------------------------\u001b[0m",
      "\u001b[1;31mNameError\u001b[0m                                 Traceback (most recent call last)",
      "\u001b[1;32mc:\\Users\\TurnerZ\\Documents\\GitHub\\DBSage_Navigator\\rag_notebooks\\barbenheimer.ipynb Cell 16\u001b[0m line \u001b[0;36m1\n\u001b[0;32m      <a href='vscode-notebook-cell:/c%3A/Users/TurnerZ/Documents/GitHub/DBSage_Navigator/rag_notebooks/barbenheimer.ipynb#X21sZmlsZQ%3D%3D?line=8'>9</a>\u001b[0m core_embeddings_model \u001b[39m=\u001b[39m HuggingFaceEmbeddings(\n\u001b[0;32m     <a href='vscode-notebook-cell:/c%3A/Users/TurnerZ/Documents/GitHub/DBSage_Navigator/rag_notebooks/barbenheimer.ipynb#X21sZmlsZQ%3D%3D?line=9'>10</a>\u001b[0m     model_name\u001b[39m=\u001b[39membed_model_id\n\u001b[0;32m     <a href='vscode-notebook-cell:/c%3A/Users/TurnerZ/Documents/GitHub/DBSage_Navigator/rag_notebooks/barbenheimer.ipynb#X21sZmlsZQ%3D%3D?line=10'>11</a>\u001b[0m )\n\u001b[0;32m     <a href='vscode-notebook-cell:/c%3A/Users/TurnerZ/Documents/GitHub/DBSage_Navigator/rag_notebooks/barbenheimer.ipynb#X21sZmlsZQ%3D%3D?line=12'>13</a>\u001b[0m embedder \u001b[39m=\u001b[39m CacheBackedEmbeddings\u001b[39m.\u001b[39mfrom_bytes_store(\n\u001b[0;32m     <a href='vscode-notebook-cell:/c%3A/Users/TurnerZ/Documents/GitHub/DBSage_Navigator/rag_notebooks/barbenheimer.ipynb#X21sZmlsZQ%3D%3D?line=13'>14</a>\u001b[0m     core_embeddings_model, store, namespace\u001b[39m=\u001b[39membed_model_id\n\u001b[0;32m     <a href='vscode-notebook-cell:/c%3A/Users/TurnerZ/Documents/GitHub/DBSage_Navigator/rag_notebooks/barbenheimer.ipynb#X21sZmlsZQ%3D%3D?line=14'>15</a>\u001b[0m )\n\u001b[1;32m---> <a href='vscode-notebook-cell:/c%3A/Users/TurnerZ/Documents/GitHub/DBSage_Navigator/rag_notebooks/barbenheimer.ipynb#X21sZmlsZQ%3D%3D?line=16'>17</a>\u001b[0m vector_store \u001b[39m=\u001b[39m FAISS\u001b[39m.\u001b[39mfrom_documents(combined_documents, embedder)\n",
      "\u001b[1;31mNameError\u001b[0m: name 'combined_documents' is not defined"
     ]
    }
   ],
   "source": [
    "from langchain.embeddings import CacheBackedEmbeddings, HuggingFaceEmbeddings\n",
    "from langchain.vectorstores import FAISS\n",
    "from langchain.storage import LocalFileStore\n",
    "\n",
    "store = LocalFileStore(\"./cache/\")\n",
    "\n",
    "embed_model_id = 'sentence-transformers/all-MiniLM-L6-v2'\n",
    "\n",
    "core_embeddings_model = HuggingFaceEmbeddings(\n",
    "    model_name=embed_model_id\n",
    ")\n",
    "\n",
    "embedder = CacheBackedEmbeddings.from_bytes_store(\n",
    "    core_embeddings_model, store, namespace=embed_model_id\n",
    ")\n",
    "\n",
    "vector_store = FAISS.from_documents(combined_documents, embedder)"
   ]
  }
 ],
 "metadata": {
  "kernelspec": {
   "display_name": ".venv",
   "language": "python",
   "name": "python3"
  },
  "language_info": {
   "codemirror_mode": {
    "name": "ipython",
    "version": 3
   },
   "file_extension": ".py",
   "mimetype": "text/x-python",
   "name": "python",
   "nbconvert_exporter": "python",
   "pygments_lexer": "ipython3",
   "version": "3.11.3"
  }
 },
 "nbformat": 4,
 "nbformat_minor": 2
}
