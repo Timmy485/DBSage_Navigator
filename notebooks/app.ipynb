{
 "cells": [
  {
   "cell_type": "markdown",
   "metadata": {},
   "source": [
    "## LLM"
   ]
  },
  {
   "cell_type": "code",
   "execution_count": 1,
   "metadata": {},
   "outputs": [],
   "source": [
    "import json\n",
    "\n",
    "# Load configuration from JSON file\n",
    "with open('../config.json') as config_file:\n",
    "    config = json.load(config_file)"
   ]
  },
  {
   "cell_type": "code",
   "execution_count": 2,
   "metadata": {},
   "outputs": [],
   "source": [
    "db_scheme = config.get(\"DB_SCHEME\")\n",
    "palm_api_key = config.get(\"API_KEY\")\n",
    "user = config.get(\"user\")\n",
    "password = config.get(\"password\")\n",
    "dbname = config.get(\"dbname\")"
   ]
  },
  {
   "cell_type": "code",
   "execution_count": 3,
   "metadata": {},
   "outputs": [
    {
     "name": "stderr",
     "output_type": "stream",
     "text": [
      "c:\\Users\\TurnerZ\\Documents\\GitHub\\DBSage_Navigator\\.venv\\Lib\\site-packages\\tqdm\\auto.py:21: TqdmWarning: IProgress not found. Please update jupyter and ipywidgets. See https://ipywidgets.readthedocs.io/en/stable/user_install.html\n",
      "  from .autonotebook import tqdm as notebook_tqdm\n",
      "config.json: 100%|██████████| 743/743 [00:00<?, ?B/s] \n",
      "c:\\Users\\TurnerZ\\Documents\\GitHub\\DBSage_Navigator\\.venv\\Lib\\site-packages\\huggingface_hub\\file_download.py:147: UserWarning: `huggingface_hub` cache-system uses symlinks by default to efficiently store duplicated files but your machine does not support them in C:\\Users\\TurnerZ\\AppData\\Local\\llama_index. Caching files will still work but in a degraded version that might require more space on your disk. This warning can be disabled by setting the `HF_HUB_DISABLE_SYMLINKS_WARNING` environment variable. For more details, see https://huggingface.co/docs/huggingface_hub/how-to-cache#limitations.\n",
      "To support symlinks on Windows, you either need to activate Developer Mode or to run Python as an administrator. In order to see activate developer mode, see this article: https://docs.microsoft.com/en-us/windows/apps/get-started/enable-your-device-for-development\n",
      "  warnings.warn(message)\n",
      "pytorch_model.bin: 100%|██████████| 134M/134M [00:08<00:00, 15.4MB/s] \n",
      "tokenizer_config.json: 100%|██████████| 366/366 [00:00<00:00, 367kB/s]\n",
      "vocab.txt: 100%|██████████| 232k/232k [00:00<00:00, 734kB/s]\n",
      "tokenizer.json: 100%|██████████| 711k/711k [00:00<00:00, 1.74MB/s]\n",
      "special_tokens_map.json: 100%|██████████| 125/125 [00:00<?, ?B/s] \n"
     ]
    }
   ],
   "source": [
    "from llama_index.llms.palm import PaLM\n",
    "from llama_index import (\n",
    "    SimpleDirectoryReader,\n",
    "    VectorStoreIndex,\n",
    "    ServiceContext,\n",
    "    StorageContext,\n",
    "    load_index_from_storage,\n",
    ")\n",
    "\n",
    "# use Huggingface embeddings\n",
    "from llama_index.embeddings import HuggingFaceEmbedding\n",
    "\n",
    "embed_model = HuggingFaceEmbedding(model_name=\"BAAI/bge-small-en-v1.5\")"
   ]
  },
  {
   "cell_type": "code",
   "execution_count": 4,
   "metadata": {},
   "outputs": [],
   "source": [
    "model = PaLM(api_key=palm_api_key)\n",
    "service_context = ServiceContext.from_defaults(\n",
    "    llm=model,\n",
    "    embed_model=embed_model,)"
   ]
  },
  {
   "cell_type": "markdown",
   "metadata": {},
   "source": [
    "## Loading Data"
   ]
  },
  {
   "cell_type": "code",
   "execution_count": 5,
   "metadata": {},
   "outputs": [],
   "source": [
    "from llama_index import download_loader\n",
    "\n",
    "DatabaseReader = download_loader('DatabaseReader')"
   ]
  },
  {
   "cell_type": "code",
   "execution_count": 6,
   "metadata": {},
   "outputs": [],
   "source": [
    "reader = DatabaseReader(\n",
    "    scheme = \"postgresql\", # Database Scheme\n",
    "    host = \"localhost\", # Database Host\n",
    "    port = \"5432\", # Database Port\n",
    "    user = user, # Database User\n",
    "    password = password, # Database Password\n",
    "    dbname = dbname, # Database Name\n",
    ")\n",
    "\n",
    "query = \"\"\"\n",
    "SELECT * FROM public.employee_data\n",
    "\"\"\"\n",
    "\n",
    "documents = reader.load_data(query=query)"
   ]
  },
  {
   "cell_type": "markdown",
   "metadata": {},
   "source": [
    "## Indexing"
   ]
  },
  {
   "cell_type": "code",
   "execution_count": 7,
   "metadata": {},
   "outputs": [
    {
     "name": "stdout",
     "output_type": "stream",
     "text": [
      "creating storage\n",
      "Done...\n"
     ]
    }
   ],
   "source": [
    "import os\n",
    "\n",
    "# check if storage already exists\n",
    "if not os.path.exists(\"../dbsage_storage\"):\n",
    "    print('creating storage')  \n",
    "    index = VectorStoreIndex.from_documents(\n",
    "            documents, service_context=service_context\n",
    "        )\n",
    "    # store it for later\n",
    "    index.storage_context.persist('../dbsage_storage')\n",
    "    print('Done...')\n",
    "else:\n",
    "    # load the existing index\n",
    "    storage_context = StorageContext.from_defaults(persist_dir=\"../dbsage_storage\")\n",
    "    index = load_index_from_storage(storage_context, service_context=service_context)"
   ]
  }
 ],
 "metadata": {
  "kernelspec": {
   "display_name": ".venv",
   "language": "python",
   "name": "python3"
  },
  "language_info": {
   "codemirror_mode": {
    "name": "ipython",
    "version": 3
   },
   "file_extension": ".py",
   "mimetype": "text/x-python",
   "name": "python",
   "nbconvert_exporter": "python",
   "pygments_lexer": "ipython3",
   "version": "3.11.3"
  }
 },
 "nbformat": 4,
 "nbformat_minor": 2
}
