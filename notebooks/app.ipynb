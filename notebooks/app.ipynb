{
 "cells": [
  {
   "cell_type": "markdown",
   "metadata": {},
   "source": [
    "## LLM"
   ]
  },
  {
   "cell_type": "code",
   "execution_count": 1,
   "metadata": {},
   "outputs": [],
   "source": [
    "import json\n",
    "\n",
    "# Load configuration from JSON file\n",
    "with open('../config.json') as config_file:\n",
    "    config = json.load(config_file)"
   ]
  },
  {
   "cell_type": "code",
   "execution_count": 2,
   "metadata": {},
   "outputs": [],
   "source": [
    "db_scheme = config.get(\"DB_SCHEME\")\n",
    "palm_api_key = config.get(\"API_KEY\")\n",
    "user = config.get(\"user\")\n",
    "password = config.get(\"password\")\n",
    "dbname = config.get(\"dbname\")"
   ]
  },
  {
   "cell_type": "code",
   "execution_count": 3,
   "metadata": {},
   "outputs": [
    {
     "name": "stderr",
     "output_type": "stream",
     "text": [
      "c:\\Users\\TurnerZ\\Documents\\GitHub\\DBSage_Navigator\\.venv\\Lib\\site-packages\\tqdm\\auto.py:21: TqdmWarning: IProgress not found. Please update jupyter and ipywidgets. See https://ipywidgets.readthedocs.io/en/stable/user_install.html\n",
      "  from .autonotebook import tqdm as notebook_tqdm\n"
     ]
    }
   ],
   "source": [
    "from llama_index.llms.palm import PaLM\n",
    "\n",
    "model = PaLM(api_key=palm_api_key)"
   ]
  },
  {
   "cell_type": "markdown",
   "metadata": {},
   "source": [
    "## Loading Data"
   ]
  },
  {
   "cell_type": "code",
   "execution_count": 4,
   "metadata": {},
   "outputs": [],
   "source": [
    "from llama_index import download_loader\n",
    "\n",
    "DatabaseReader = download_loader('DatabaseReader')"
   ]
  },
  {
   "cell_type": "code",
   "execution_count": null,
   "metadata": {},
   "outputs": [],
   "source": [
    "reader = DatabaseReader(\n",
    "    scheme = \"postgresql\", # Database Scheme\n",
    "    host = \"localhost\", # Database Host\n",
    "    port = \"5432\", # Database Port\n",
    "    user = user, # Database User\n",
    "    password = password, # Database Password\n",
    "    dbname = dbname, # Database Name\n",
    ")\n",
    "\n",
    "query = \"\"\"\n",
    "SELECT * FROM public.employee_data\n",
    "\"\"\"\n",
    "\n",
    "documents = reader.load_data(query=query)"
   ]
  }
 ],
 "metadata": {
  "kernelspec": {
   "display_name": ".venv",
   "language": "python",
   "name": "python3"
  },
  "language_info": {
   "codemirror_mode": {
    "name": "ipython",
    "version": 3
   },
   "file_extension": ".py",
   "mimetype": "text/x-python",
   "name": "python",
   "nbconvert_exporter": "python",
   "pygments_lexer": "ipython3",
   "version": "3.11.3"
  }
 },
 "nbformat": 4,
 "nbformat_minor": 2
}
